{
  "nbformat": 4,
  "nbformat_minor": 0,
  "metadata": {
    "colab": {
      "name": "DS-2 Lab-1 Scaffold.ipynb",
      "provenance": [],
      "toc_visible": true,
      "include_colab_link": true
    },
    "kernelspec": {
      "name": "python3",
      "display_name": "Python 3"
    }
  },
  "cells": [
    {
      "cell_type": "markdown",
      "metadata": {
        "id": "view-in-github",
        "colab_type": "text"
      },
      "source": [
        "<a href=\"https://colab.research.google.com/github/pramendra/univ-ml2-lab1/blob/main/distribute_lab1.ipynb\" target=\"_parent\"><img src=\"https://colab.research.google.com/assets/colab-badge.svg\" alt=\"Open In Colab\"/></a>"
      ]
    },
    {
      "cell_type": "markdown",
      "metadata": {
        "id": "4p_v3u0tn4EH"
      },
      "source": [
        "# Lab 1: Decision trees Regression and Bagging\r\n",
        "### Univ.AI\r\n",
        "### ML-2 Cohort-1\r\n"
      ]
    },
    {
      "cell_type": "markdown",
      "metadata": {
        "id": "UUkTNQKyouIA"
      },
      "source": [
        "The goal of this lab is to predict the winner of the 2016 Presidential election (Trump vs. Clinton) in each county in the US, measured as 'votergap' = (trump - clinton) in percentage points. <br>\r\n",
        "We do already know the answer to this now in 2021, but we intend to make a model to see how right or wrong our predictions are!\r\n",
        "\r\n",
        "To do this, we consider several predictors and model a decision tree to perform regression and predict the dependent variable 'votergap'.\r\n",
        "We then try to improve upon our simple Decision Tree model by implementing bagging."
      ]
    },
    {
      "cell_type": "code",
      "metadata": {
        "id": "lNb2qEmY9qrC"
      },
      "source": [
        "#Import libraries\r\n",
        "%matplotlib inline\r\n",
        "import numpy as np\r\n",
        "import matplotlib as mpl\r\n",
        "import matplotlib.cm as cm\r\n",
        "import matplotlib.pyplot as plt\r\n",
        "import pandas as pd\r\n",
        "import seaborn as sns\r\n",
        "from sklearn.model_selection import train_test_split\r\n",
        "from sklearn.tree import DecisionTreeRegressor\r\n",
        "from sklearn.model_selection import cross_val_score, GridSearchCV\r\n",
        "from sklearn.utils import resample\r\n",
        "from sklearn.metrics import r2_score\r\n",
        "from sklearn.metrics import plot_confusion_matrix, confusion_matrix\r\n"
      ],
      "execution_count": 81,
      "outputs": []
    },
    {
      "cell_type": "code",
      "metadata": {
        "colab": {
          "base_uri": "https://localhost:8080/"
        },
        "id": "ggjStAwZ8Igc",
        "outputId": "29cca97a-ad21-4dbc-a26f-a0b414a59932"
      },
      "source": [
        "! git init; git clone https://github.com/pramendra/univ-ml2-lab1"
      ],
      "execution_count": 3,
      "outputs": [
        {
          "output_type": "stream",
          "text": [
            "Initialized empty Git repository in /content/.git/\n",
            "Cloning into 'univ-ml2-lab1'...\n",
            "remote: Enumerating objects: 16, done.\u001b[K\n",
            "remote: Counting objects: 100% (16/16), done.\u001b[K\n",
            "remote: Compressing objects: 100% (12/12), done.\u001b[K\n",
            "remote: Total 16 (delta 4), reused 11 (delta 2), pack-reused 0\u001b[K\n",
            "Unpacking objects: 100% (16/16), done.\n"
          ],
          "name": "stdout"
        }
      ]
    },
    {
      "cell_type": "markdown",
      "metadata": {
        "id": "otueHZ1gxIl2"
      },
      "source": [
        "## Part 1:  Reading and Exploring the data\r\n",
        "\r\n",
        "We will be using 'county_level_election.csv' to model the outcome of the 2016 presidential election from various predictors.\r\n",
        "\r\n",
        "We start by reading in the datasets and visualizing the main predictors for now."
      ]
    },
    {
      "cell_type": "code",
      "metadata": {
        "id": "wzAQ-k7BrsB6"
      },
      "source": [
        "#your code here\r\n",
        "data = pd.read_csv(\"./univ-ml2-lab1/data/county_level_election.csv\")"
      ],
      "execution_count": 11,
      "outputs": []
    },
    {
      "cell_type": "code",
      "metadata": {
        "colab": {
          "base_uri": "https://localhost:8080/",
          "height": 204
        },
        "id": "5H9hrHwd9vEz",
        "outputId": "c6386587-510c-42f5-fe23-583f8808b35b"
      },
      "source": [
        "data.head()"
      ],
      "execution_count": 13,
      "outputs": [
        {
          "output_type": "execute_result",
          "data": {
            "text/html": [
              "<div>\n",
              "<style scoped>\n",
              "    .dataframe tbody tr th:only-of-type {\n",
              "        vertical-align: middle;\n",
              "    }\n",
              "\n",
              "    .dataframe tbody tr th {\n",
              "        vertical-align: top;\n",
              "    }\n",
              "\n",
              "    .dataframe thead th {\n",
              "        text-align: right;\n",
              "    }\n",
              "</style>\n",
              "<table border=\"1\" class=\"dataframe\">\n",
              "  <thead>\n",
              "    <tr style=\"text-align: right;\">\n",
              "      <th></th>\n",
              "      <th>state</th>\n",
              "      <th>fipscode</th>\n",
              "      <th>county</th>\n",
              "      <th>population</th>\n",
              "      <th>hispanic</th>\n",
              "      <th>minority</th>\n",
              "      <th>female</th>\n",
              "      <th>unemployed</th>\n",
              "      <th>income</th>\n",
              "      <th>nodegree</th>\n",
              "      <th>bachelor</th>\n",
              "      <th>inactivity</th>\n",
              "      <th>obesity</th>\n",
              "      <th>density</th>\n",
              "      <th>cancer</th>\n",
              "      <th>votergap</th>\n",
              "      <th>trump</th>\n",
              "      <th>clinton</th>\n",
              "    </tr>\n",
              "  </thead>\n",
              "  <tbody>\n",
              "    <tr>\n",
              "      <th>0</th>\n",
              "      <td>Colorado</td>\n",
              "      <td>8117</td>\n",
              "      <td>Summit County</td>\n",
              "      <td>27239</td>\n",
              "      <td>15.173</td>\n",
              "      <td>4.918</td>\n",
              "      <td>45.996</td>\n",
              "      <td>2.5</td>\n",
              "      <td>68352</td>\n",
              "      <td>5.4</td>\n",
              "      <td>48.1</td>\n",
              "      <td>8.1</td>\n",
              "      <td>13.1</td>\n",
              "      <td>46.0</td>\n",
              "      <td>46.2</td>\n",
              "      <td>-27.632</td>\n",
              "      <td>31.530</td>\n",
              "      <td>59.162</td>\n",
              "    </tr>\n",
              "    <tr>\n",
              "      <th>1</th>\n",
              "      <td>Colorado</td>\n",
              "      <td>8037</td>\n",
              "      <td>Eagle County</td>\n",
              "      <td>53653</td>\n",
              "      <td>30.040</td>\n",
              "      <td>5.169</td>\n",
              "      <td>47.231</td>\n",
              "      <td>3.1</td>\n",
              "      <td>76661</td>\n",
              "      <td>10.1</td>\n",
              "      <td>47.3</td>\n",
              "      <td>9.4</td>\n",
              "      <td>11.8</td>\n",
              "      <td>31.0</td>\n",
              "      <td>47.1</td>\n",
              "      <td>-19.897</td>\n",
              "      <td>36.058</td>\n",
              "      <td>55.955</td>\n",
              "    </tr>\n",
              "    <tr>\n",
              "      <th>2</th>\n",
              "      <td>Idaho</td>\n",
              "      <td>16067</td>\n",
              "      <td>Minidoka County</td>\n",
              "      <td>19226</td>\n",
              "      <td>34.070</td>\n",
              "      <td>5.611</td>\n",
              "      <td>49.318</td>\n",
              "      <td>3.7</td>\n",
              "      <td>46332</td>\n",
              "      <td>24.1</td>\n",
              "      <td>11.8</td>\n",
              "      <td>18.3</td>\n",
              "      <td>34.2</td>\n",
              "      <td>80.0</td>\n",
              "      <td>61.8</td>\n",
              "      <td>54.148</td>\n",
              "      <td>71.135</td>\n",
              "      <td>16.987</td>\n",
              "    </tr>\n",
              "    <tr>\n",
              "      <th>3</th>\n",
              "      <td>Colorado</td>\n",
              "      <td>8113</td>\n",
              "      <td>San Miguel County</td>\n",
              "      <td>7558</td>\n",
              "      <td>10.154</td>\n",
              "      <td>4.747</td>\n",
              "      <td>46.808</td>\n",
              "      <td>3.7</td>\n",
              "      <td>59603</td>\n",
              "      <td>4.7</td>\n",
              "      <td>54.4</td>\n",
              "      <td>12.4</td>\n",
              "      <td>16.7</td>\n",
              "      <td>5.7</td>\n",
              "      <td>62.6</td>\n",
              "      <td>-44.769</td>\n",
              "      <td>23.892</td>\n",
              "      <td>68.662</td>\n",
              "    </tr>\n",
              "    <tr>\n",
              "      <th>4</th>\n",
              "      <td>Utah</td>\n",
              "      <td>49051</td>\n",
              "      <td>Wasatch County</td>\n",
              "      <td>21600</td>\n",
              "      <td>13.244</td>\n",
              "      <td>4.125</td>\n",
              "      <td>48.812</td>\n",
              "      <td>3.4</td>\n",
              "      <td>65207</td>\n",
              "      <td>9.5</td>\n",
              "      <td>34.4</td>\n",
              "      <td>13.9</td>\n",
              "      <td>23.0</td>\n",
              "      <td>257.8</td>\n",
              "      <td>68.3</td>\n",
              "      <td>25.357</td>\n",
              "      <td>50.471</td>\n",
              "      <td>25.114</td>\n",
              "    </tr>\n",
              "  </tbody>\n",
              "</table>\n",
              "</div>"
            ],
            "text/plain": [
              "      state  fipscode             county  ...  votergap   trump  clinton\n",
              "0  Colorado      8117      Summit County  ...   -27.632  31.530   59.162\n",
              "1  Colorado      8037       Eagle County  ...   -19.897  36.058   55.955\n",
              "2     Idaho     16067    Minidoka County  ...    54.148  71.135   16.987\n",
              "3  Colorado      8113  San Miguel County  ...   -44.769  23.892   68.662\n",
              "4      Utah     49051     Wasatch County  ...    25.357  50.471   25.114\n",
              "\n",
              "[5 rows x 18 columns]"
            ]
          },
          "metadata": {
            "tags": []
          },
          "execution_count": 13
        }
      ]
    },
    {
      "cell_type": "code",
      "metadata": {
        "colab": {
          "base_uri": "https://localhost:8080/"
        },
        "id": "AEMLbSy_Fvo7",
        "outputId": "5336b851-c013-4c4b-bc83-35434561dacd"
      },
      "source": [
        "data.iloc[2904]"
      ],
      "execution_count": 57,
      "outputs": [
        {
          "output_type": "execute_result",
          "data": {
            "text/plain": [
              "state             Kentucky\n",
              "fipscode             21141\n",
              "county        Logan County\n",
              "population           27174\n",
              "hispanic             3.066\n",
              "minority             9.424\n",
              "female              51.007\n",
              "unemployed             4.8\n",
              "income               41150\n",
              "nodegree              22.8\n",
              "bachelor                13\n",
              "inactivity            38.6\n",
              "obesity               35.2\n",
              "density               30.4\n",
              "cancer               317.6\n",
              "votergap            46.087\n",
              "trump               71.364\n",
              "clinton             25.278\n",
              "Name: 2904, dtype: object"
            ]
          },
          "metadata": {
            "tags": []
          },
          "execution_count": 57
        }
      ]
    },
    {
      "cell_type": "code",
      "metadata": {
        "colab": {
          "base_uri": "https://localhost:8080/"
        },
        "id": "rJ3dlAXxAH-G",
        "outputId": "f6d2cff8-1378-4514-cbd3-cca7d323f5f5"
      },
      "source": [
        "data.shape"
      ],
      "execution_count": 12,
      "outputs": [
        {
          "output_type": "execute_result",
          "data": {
            "text/plain": [
              "(3066, 18)"
            ]
          },
          "metadata": {
            "tags": []
          },
          "execution_count": 12
        }
      ]
    },
    {
      "cell_type": "markdown",
      "metadata": {
        "id": "vmCAKsOb_z5h"
      },
      "source": [
        "Perform an 80-20 train-test split on the dataframe to get your training and test data. Take only the following features in 'X': 'population','hispanic','minority','female','unemployed','income','nodegree','bachelor','inactivity','obesity','density','cancer'"
      ]
    },
    {
      "cell_type": "code",
      "metadata": {
        "id": "EYmnE_GCsugd"
      },
      "source": [
        "#Split 80/20 train-test\r\n",
        "X = data[['population','hispanic','minority','female','unemployed','income','nodegree','bachelor','inactivity','obesity','density','cancer']]\r\n",
        "y = data[['votergap']]\r\n",
        "\r\n",
        "X_train, X_test, y_train, y_test = train_test_split(X, y, test_size=0.2, random_state=66)"
      ],
      "execution_count": 60,
      "outputs": []
    },
    {
      "cell_type": "markdown",
      "metadata": {
        "id": "cNQl7AVm2CzV"
      },
      "source": [
        "Consider 1 variable, say minority, and plot the relationship between minority and the dependent variable.\r\n",
        "\r\n",
        "Also plot this on a log scale to see if we can visualize it easier.\r\n",
        "\r\n",
        "\r\n",
        "Note: We chose minority as it has the highest correlation with our target variable, you can also see this by printing out the correlation matrix using `sns.heatmap()` <br>\r\n",
        "Remember not to leak any data while calculating the correlation!"
      ]
    },
    {
      "cell_type": "code",
      "metadata": {
        "id": "NV-Q5W3d18Vk",
        "colab": {
          "base_uri": "https://localhost:8080/",
          "height": 419
        },
        "outputId": "f7e4f858-a1ac-46df-aee0-a596fba238a3"
      },
      "source": [
        "#Plot minorty vs votergap\r\n",
        "new_data = X_train[['minority']].merge(y_train, right_index=True, left_index=True)\r\n",
        "\r\n",
        "new_data"
      ],
      "execution_count": 70,
      "outputs": [
        {
          "output_type": "execute_result",
          "data": {
            "text/html": [
              "<div>\n",
              "<style scoped>\n",
              "    .dataframe tbody tr th:only-of-type {\n",
              "        vertical-align: middle;\n",
              "    }\n",
              "\n",
              "    .dataframe tbody tr th {\n",
              "        vertical-align: top;\n",
              "    }\n",
              "\n",
              "    .dataframe thead th {\n",
              "        text-align: right;\n",
              "    }\n",
              "</style>\n",
              "<table border=\"1\" class=\"dataframe\">\n",
              "  <thead>\n",
              "    <tr style=\"text-align: right;\">\n",
              "      <th></th>\n",
              "      <th>minority</th>\n",
              "      <th>votergap</th>\n",
              "    </tr>\n",
              "  </thead>\n",
              "  <tbody>\n",
              "    <tr>\n",
              "      <th>368</th>\n",
              "      <td>50.657</td>\n",
              "      <td>-41.976</td>\n",
              "    </tr>\n",
              "    <tr>\n",
              "      <th>1475</th>\n",
              "      <td>24.433</td>\n",
              "      <td>41.384</td>\n",
              "    </tr>\n",
              "    <tr>\n",
              "      <th>1735</th>\n",
              "      <td>4.065</td>\n",
              "      <td>50.339</td>\n",
              "    </tr>\n",
              "    <tr>\n",
              "      <th>921</th>\n",
              "      <td>5.568</td>\n",
              "      <td>-16.067</td>\n",
              "    </tr>\n",
              "    <tr>\n",
              "      <th>935</th>\n",
              "      <td>6.829</td>\n",
              "      <td>24.899</td>\n",
              "    </tr>\n",
              "    <tr>\n",
              "      <th>...</th>\n",
              "      <td>...</td>\n",
              "      <td>...</td>\n",
              "    </tr>\n",
              "    <tr>\n",
              "      <th>1146</th>\n",
              "      <td>15.459</td>\n",
              "      <td>-35.260</td>\n",
              "    </tr>\n",
              "    <tr>\n",
              "      <th>51</th>\n",
              "      <td>18.719</td>\n",
              "      <td>17.368</td>\n",
              "    </tr>\n",
              "    <tr>\n",
              "      <th>631</th>\n",
              "      <td>17.601</td>\n",
              "      <td>-15.243</td>\n",
              "    </tr>\n",
              "    <tr>\n",
              "      <th>828</th>\n",
              "      <td>6.465</td>\n",
              "      <td>8.056</td>\n",
              "    </tr>\n",
              "    <tr>\n",
              "      <th>1044</th>\n",
              "      <td>3.397</td>\n",
              "      <td>31.804</td>\n",
              "    </tr>\n",
              "  </tbody>\n",
              "</table>\n",
              "<p>2452 rows × 2 columns</p>\n",
              "</div>"
            ],
            "text/plain": [
              "      minority  votergap\n",
              "368     50.657   -41.976\n",
              "1475    24.433    41.384\n",
              "1735     4.065    50.339\n",
              "921      5.568   -16.067\n",
              "935      6.829    24.899\n",
              "...        ...       ...\n",
              "1146    15.459   -35.260\n",
              "51      18.719    17.368\n",
              "631     17.601   -15.243\n",
              "828      6.465     8.056\n",
              "1044     3.397    31.804\n",
              "\n",
              "[2452 rows x 2 columns]"
            ]
          },
          "metadata": {
            "tags": []
          },
          "execution_count": 70
        }
      ]
    },
    {
      "cell_type": "code",
      "metadata": {
        "colab": {
          "base_uri": "https://localhost:8080/",
          "height": 286
        },
        "id": "Um3BJ9ifIiP6",
        "outputId": "ead07c3f-5a1a-4ca7-cc62-121e2bb1a34a"
      },
      "source": [
        "sns.heatmap(new_data)"
      ],
      "execution_count": 75,
      "outputs": [
        {
          "output_type": "execute_result",
          "data": {
            "text/plain": [
              "<matplotlib.axes._subplots.AxesSubplot at 0x7f559d776fd0>"
            ]
          },
          "metadata": {
            "tags": []
          },
          "execution_count": 75
        },
        {
          "output_type": "display_data",
          "data": {
            "image/png": "[encoded data removed]",
            "text/plain": [
              "<Figure size 432x288 with 2 Axes>"
            ]
          },
          "metadata": {
            "tags": [],
            "needs_background": "light"
          }
        }
      ]
    },
    {
      "cell_type": "code",
      "metadata": {
        "id": "2SO8RdNc2zq_",
        "colab": {
          "base_uri": "https://localhost:8080/",
          "height": 286
        },
        "outputId": "89df946f-1e95-47b7-9c87-01620bf265ff"
      },
      "source": [
        "#Plot log(minorty) vs votergap\r\n",
        "#your code here\r\n",
        "new_data_log = np.log2(X_train[['minority']]).merge(y_train, right_index=True, left_index=True)\r\n",
        "sns.heatmap(new_data_log)"
      ],
      "execution_count": 67,
      "outputs": [
        {
          "output_type": "execute_result",
          "data": {
            "text/plain": [
              "<matplotlib.axes._subplots.AxesSubplot at 0x7f559ca51050>"
            ]
          },
          "metadata": {
            "tags": []
          },
          "execution_count": 67
        },
        {
          "output_type": "display_data",
          "data": {
            "image/png": "[encoded data removed]",
            "text/plain": [
              "<Figure size 432x288 with 2 Axes>"
            ]
          },
          "metadata": {
            "tags": [],
            "needs_background": "light"
          }
        }
      ]
    },
    {
      "cell_type": "markdown",
      "metadata": {
        "id": "xKmFxUkUxxXl"
      },
      "source": [
        "## Part 2: Decision Trees"
      ]
    },
    {
      "cell_type": "markdown",
      "metadata": {
        "id": "ANwYZc255uLT"
      },
      "source": [
        "### 2.1: Fitting with 1 predictor\r\n",
        "\r\n",
        "First, let us fit, visualize, and interpret a tree with 1 predictor - minority.\r\n",
        "\r\n",
        "You will need to build a Decisition tree Regressor and plot their predictions of the training data with the actual train data as seen below.\r\n",
        "![goodreadsexample](https://drive.google.com/uc?export=view&id=1iTuS6SdohXYSzGm8hJYf1m4W3en0hIOt)\r\n",
        "\r\n",
        "\r\n",
        "As you can see from above, we have tried out various max_depth and min_samples_split. <br>\r\n",
        "Feel free to play around with sklearns DecisionTreeRegressor functions parameters."
      ]
    },
    {
      "cell_type": "code",
      "metadata": {
        "id": "l7sp-HXmuook"
      },
      "source": [
        "#your code here\r\n",
        "\r\n",
        "dtree = DecisionTreeRegressor(max_depth=1, random_state=1)\r\n",
        "dtree.fit(X_train[['minority']], y_train)\r\n",
        "y_predicted_1 = dtree.predict(X_test[['minority']])\r\n",
        "\r\n"
      ],
      "execution_count": 90,
      "outputs": []
    },
    {
      "cell_type": "code",
      "metadata": {
        "id": "MtLKMNUPMls4"
      },
      "source": [
        "dtree = DecisionTreeRegressor(max_depth=2, random_state=1)\n",
        "dtree.fit(X_train[['minority']], y_train)\n",
        "y_predicted_2 = dtree.predict(X_test[['minority']])\n"
      ],
      "execution_count": 91,
      "outputs": []
    },
    {
      "cell_type": "code",
      "metadata": {
        "colab": {
          "base_uri": "https://localhost:8080/",
          "height": 282
        },
        "id": "p0YaKEKaMAsU",
        "outputId": "922779dd-628e-4f25-a497-1f169cea04a7"
      },
      "source": [
        "plt.scatter(X_test[['minority']], y_test)\n",
        "plt.plot(X_test[['minority']], y_predicted_1)\n",
        "plt.plot(X_test[['minority']], y_predicted_2)"
      ],
      "execution_count": 92,
      "outputs": [
        {
          "output_type": "execute_result",
          "data": {
            "text/plain": [
              "[<matplotlib.lines.Line2D at 0x7f5593b08910>]"
            ]
          },
          "metadata": {
            "tags": []
          },
          "execution_count": 92
        },
        {
          "output_type": "display_data",
          "data": {
            "image/png": "[encoded data removed]",
            "text/plain": [
              "<Figure size 432x288 with 1 Axes>"
            ]
          },
          "metadata": {
            "tags": [],
            "needs_background": "light"
          }
        }
      ]
    },
    {
      "cell_type": "code",
      "metadata": {
        "colab": {
          "base_uri": "https://localhost:8080/",
          "height": 826
        },
        "id": "qvcFqfbsNXD_",
        "outputId": "b458acfa-543d-47d4-9a9f-b06cf1bb114f"
      },
      "source": [
        "### edTest(test_depth) ###\n",
        "#Decision tree model with varying max_depth\n",
        "from sklearn.metrics import mean_squared_error\n",
        "\n",
        "plt.figure(figsize=(15,8))\n",
        "#Plot xtrain vs ytrain and xtest vs ytest\n",
        "plt.plot(X_train,y_train,'o',color='#EFAEA4', markersize=6, label=\"Train Data\")\n",
        "plt.plot(X_test,y_test,'o',color='#F6345E', markersize=6, label=\"Test Data\")\n",
        "# x_train = x_train.reshape(-1,1)\n",
        "# x_test = x_test.reshape(-1,1)\n",
        "X_train_min = X_train[['minority']]\n",
        "\n",
        "train_mse=[]\n",
        "test_mse=[]\n",
        "depths=[1,2]\n",
        "for i in depths:\n",
        "    dtsin = DecisionTreeRegressor(max_depth=i)\n",
        "    dtsin.fit(X_train_min, y_train)\n",
        "    sort_x_train, sort_y_predtrain = zip(*sorted(zip(X_train_min, dtsin.predict(X_train_min))))\n",
        "    plt.plot(sort_x_train, sort_y_predtrain, label=i)\n",
        "    train_mse.append(mean_squared_error(y_train,dtsin.predict(X_train_min)))\n",
        "    test_mse.append(mean_squared_error(y_test,dtsin.predict(X_test)))\n",
        "plt.legend();"
      ],
      "execution_count": 96,
      "outputs": [
        {
          "output_type": "error",
          "ename": "ValueError",
          "evalue": "ignored",
          "traceback": [
            "\u001b[0;31m---------------------------------------------------------------------------\u001b[0m",
            "\u001b[0;31mValueError\u001b[0m                                Traceback (most recent call last)",
            "\u001b[0;32m<ipython-input-96-e2fb6e969ac9>\u001b[0m in \u001b[0;36m<module>\u001b[0;34m()\u001b[0m\n\u001b[1;32m     20\u001b[0m     \u001b[0mplt\u001b[0m\u001b[0;34m.\u001b[0m\u001b[0mplot\u001b[0m\u001b[0;34m(\u001b[0m\u001b[0msort_x_train\u001b[0m\u001b[0;34m,\u001b[0m \u001b[0msort_y_predtrain\u001b[0m\u001b[0;34m,\u001b[0m \u001b[0mlabel\u001b[0m\u001b[0;34m=\u001b[0m\u001b[0mi\u001b[0m\u001b[0;34m)\u001b[0m\u001b[0;34m\u001b[0m\u001b[0;34m\u001b[0m\u001b[0m\n\u001b[1;32m     21\u001b[0m     \u001b[0mtrain_mse\u001b[0m\u001b[0;34m.\u001b[0m\u001b[0mappend\u001b[0m\u001b[0;34m(\u001b[0m\u001b[0mmean_squared_error\u001b[0m\u001b[0;34m(\u001b[0m\u001b[0my_train\u001b[0m\u001b[0;34m,\u001b[0m\u001b[0mdtsin\u001b[0m\u001b[0;34m.\u001b[0m\u001b[0mpredict\u001b[0m\u001b[0;34m(\u001b[0m\u001b[0mX_train_min\u001b[0m\u001b[0;34m)\u001b[0m\u001b[0;34m)\u001b[0m\u001b[0;34m)\u001b[0m\u001b[0;34m\u001b[0m\u001b[0;34m\u001b[0m\u001b[0m\n\u001b[0;32m---> 22\u001b[0;31m     \u001b[0mtest_mse\u001b[0m\u001b[0;34m.\u001b[0m\u001b[0mappend\u001b[0m\u001b[0;34m(\u001b[0m\u001b[0mmean_squared_error\u001b[0m\u001b[0;34m(\u001b[0m\u001b[0my_test\u001b[0m\u001b[0;34m,\u001b[0m\u001b[0mdtsin\u001b[0m\u001b[0;34m.\u001b[0m\u001b[0mpredict\u001b[0m\u001b[0;34m(\u001b[0m\u001b[0mX_test\u001b[0m\u001b[0;34m)\u001b[0m\u001b[0;34m)\u001b[0m\u001b[0;34m)\u001b[0m\u001b[0;34m\u001b[0m\u001b[0;34m\u001b[0m\u001b[0m\n\u001b[0m\u001b[1;32m     23\u001b[0m \u001b[0mplt\u001b[0m\u001b[0;34m.\u001b[0m\u001b[0mlegend\u001b[0m\u001b[0;34m(\u001b[0m\u001b[0;34m)\u001b[0m\u001b[0;34m;\u001b[0m\u001b[0;34m\u001b[0m\u001b[0;34m\u001b[0m\u001b[0m\n",
            "\u001b[0;32m/usr/local/lib/python3.7/dist-packages/sklearn/tree/_classes.py\u001b[0m in \u001b[0;36mpredict\u001b[0;34m(self, X, check_input)\u001b[0m\n\u001b[1;32m    417\u001b[0m         \"\"\"\n\u001b[1;32m    418\u001b[0m         \u001b[0mcheck_is_fitted\u001b[0m\u001b[0;34m(\u001b[0m\u001b[0mself\u001b[0m\u001b[0;34m)\u001b[0m\u001b[0;34m\u001b[0m\u001b[0;34m\u001b[0m\u001b[0m\n\u001b[0;32m--> 419\u001b[0;31m         \u001b[0mX\u001b[0m \u001b[0;34m=\u001b[0m \u001b[0mself\u001b[0m\u001b[0;34m.\u001b[0m\u001b[0m_validate_X_predict\u001b[0m\u001b[0;34m(\u001b[0m\u001b[0mX\u001b[0m\u001b[0;34m,\u001b[0m \u001b[0mcheck_input\u001b[0m\u001b[0;34m)\u001b[0m\u001b[0;34m\u001b[0m\u001b[0;34m\u001b[0m\u001b[0m\n\u001b[0m\u001b[1;32m    420\u001b[0m         \u001b[0mproba\u001b[0m \u001b[0;34m=\u001b[0m \u001b[0mself\u001b[0m\u001b[0;34m.\u001b[0m\u001b[0mtree_\u001b[0m\u001b[0;34m.\u001b[0m\u001b[0mpredict\u001b[0m\u001b[0;34m(\u001b[0m\u001b[0mX\u001b[0m\u001b[0;34m)\u001b[0m\u001b[0;34m\u001b[0m\u001b[0;34m\u001b[0m\u001b[0m\n\u001b[1;32m    421\u001b[0m         \u001b[0mn_samples\u001b[0m \u001b[0;34m=\u001b[0m \u001b[0mX\u001b[0m\u001b[0;34m.\u001b[0m\u001b[0mshape\u001b[0m\u001b[0;34m[\u001b[0m\u001b[0;36m0\u001b[0m\u001b[0;34m]\u001b[0m\u001b[0;34m\u001b[0m\u001b[0;34m\u001b[0m\u001b[0m\n",
            "\u001b[0;32m/usr/local/lib/python3.7/dist-packages/sklearn/tree/_classes.py\u001b[0m in \u001b[0;36m_validate_X_predict\u001b[0;34m(self, X, check_input)\u001b[0m\n\u001b[1;32m    389\u001b[0m                              \u001b[0;34m\"match the input. Model n_features is %s and \"\u001b[0m\u001b[0;34m\u001b[0m\u001b[0;34m\u001b[0m\u001b[0m\n\u001b[1;32m    390\u001b[0m                              \u001b[0;34m\"input n_features is %s \"\u001b[0m\u001b[0;34m\u001b[0m\u001b[0;34m\u001b[0m\u001b[0m\n\u001b[0;32m--> 391\u001b[0;31m                              % (self.n_features_, n_features))\n\u001b[0m\u001b[1;32m    392\u001b[0m \u001b[0;34m\u001b[0m\u001b[0m\n\u001b[1;32m    393\u001b[0m         \u001b[0;32mreturn\u001b[0m \u001b[0mX\u001b[0m\u001b[0;34m\u001b[0m\u001b[0;34m\u001b[0m\u001b[0m\n",
            "\u001b[0;31mValueError\u001b[0m: Number of features of the model must match the input. Model n_features is 1 and input n_features is 12 "
          ]
        },
        {
          "output_type": "display_data",
          "data": {
            "image/png": "[encoded data removed]",
            "text/plain": [
              "<Figure size 1080x576 with 1 Axes>"
            ]
          },
          "metadata": {
            "tags": [],
            "needs_background": "light"
          }
        }
      ]
    },
    {
      "cell_type": "markdown",
      "metadata": {
        "id": "RqfsmaiR8W1K"
      },
      "source": [
        "### 2.2: Fitting with all predictors"
      ]
    },
    {
      "cell_type": "markdown",
      "metadata": {
        "id": "7c3K26UhCF9T"
      },
      "source": [
        "Now, use all the predictors to model the Decision Tree.\r\n",
        "\r\n",
        "Print out the actual training set and their predictions and compare these values to see how well your model has done. Save this as a dataframe."
      ]
    },
    {
      "cell_type": "code",
      "metadata": {
        "id": "dSfrHCSMLeGY"
      },
      "source": [
        "#your code here\r\n",
        "\r\n"
      ],
      "execution_count": null,
      "outputs": []
    },
    {
      "cell_type": "markdown",
      "metadata": {
        "id": "Cbunyb-L_W_4"
      },
      "source": [
        "Perform 5-fold cross-validation to determine what the best max_depth would be for a single regression tree using your entire training set and GridSearchCV().\r\n",
        "\r\n",
        "Next, visualize these results by plotting the mean CV score and +/- 2 standard deviations across the validation sets.<br>\r\n",
        "To do this, you will need to store the training scores, mean and standard deviations of the test score.\r\n",
        "\r\n",
        "Your plot should look something like this: \r\n",
        "\r\n",
        "![goodreadsexample](https://drive.google.com/uc?export=view&id=1iAJf3AGbiri8r6B0nrtbRIgxhkF1yGsR)\r\n"
      ]
    },
    {
      "cell_type": "code",
      "metadata": {
        "id": "kfPOii9a_WVX"
      },
      "source": [
        "depths = list(range(1, 21))\r\n",
        "\r\n",
        "#your code here\r\n",
        "\r\n"
      ],
      "execution_count": null,
      "outputs": []
    },
    {
      "cell_type": "code",
      "metadata": {
        "id": "HNeD_yfpCxl3"
      },
      "source": [
        "# plot means and shade the 2 SD interval\r\n",
        "\r\n",
        "#your code here"
      ],
      "execution_count": null,
      "outputs": []
    },
    {
      "cell_type": "markdown",
      "metadata": {
        "id": "A25UpJPNEHJU"
      },
      "source": [
        "Choose the best max_depth based on the result of your cross validation and build your final model with all predictors and the optimal max_depth.<br>\r\n",
        "Also print out the mean accuracy on the train and test data using the `score()` method from the DecisionTreeRegressor class.\r\n",
        "\r\n",
        "**You can add pruning or any other techniques you have learnt in the lectures till now.**"
      ]
    },
    {
      "cell_type": "code",
      "metadata": {
        "id": "1C_tOzVqEK7e"
      },
      "source": [
        "#your code here\r\n",
        "\r\n",
        "\r\n",
        "print(\"Train accuracy:\")\r\n",
        "print(\"Test accuracy:\")"
      ],
      "execution_count": null,
      "outputs": []
    },
    {
      "cell_type": "markdown",
      "metadata": {
        "id": "ZNqdI3t5x0rx"
      },
      "source": [
        "## Part 3: Bagging"
      ]
    },
    {
      "cell_type": "markdown",
      "metadata": {
        "id": "SR82wMUZEY9L"
      },
      "source": [
        "You might still be overfitting in your previous model, we can now attempt to reduce the overfitting by implementing bagging. <br>\r\n",
        "In this lab, we will be performing bagging for a decision tree modeled only on a single predictor as it is easier to visualize.\r\n",
        "\r\n",
        "To do this, you will need to first bootstrap (resample data) and aggregate over all of the bootstrapped models. <br>\r\n",
        "Plot your bagged models predictions in the training set along with the actual full training set to observe the predictions of your bagged models. <br>\r\n",
        "\r\n",
        "Try implementing this without using sklearns `BaggingRegressor()`!"
      ]
    },
    {
      "cell_type": "markdown",
      "metadata": {
        "id": "pVh_r1hyIxi7"
      },
      "source": [
        "### 3.1: Bagging with 1 predictor"
      ]
    },
    {
      "cell_type": "code",
      "metadata": {
        "id": "u-J5M7nRFLhm"
      },
      "source": [
        "#your code here\r\n",
        "\r\n"
      ],
      "execution_count": null,
      "outputs": []
    },
    {
      "cell_type": "code",
      "metadata": {
        "id": "HNt5obduL7Bm"
      },
      "source": [
        "#Plot the actual train data vs your bagged models predictions on the train data\r\n"
      ],
      "execution_count": null,
      "outputs": []
    },
    {
      "cell_type": "markdown",
      "metadata": {
        "id": "0SLNozs5I4MX"
      },
      "source": [
        "### 3.2: Bagging with all predictors"
      ]
    },
    {
      "cell_type": "markdown",
      "metadata": {
        "id": "o9WVCxVaI_Y2"
      },
      "source": [
        "Perform the same operations as you did above, except this time with all the predictors. \r\n",
        "In addition to this, calculate the average score of all of the individual trees and plot a histogram of the same. <br>\r\n",
        "![goodreadsexample](https://drive.google.com/uc?export=view&id=1qBk8TMOygnIDmUCSzpkrrH7N0ulOrHSr)\r\n",
        "\r\n",
        "\r\n",
        "\r\n",
        "Also print and calculate the score of the aggregated trees.\r\n",
        "\r\n",
        "You need not plot the training set and their predictions as it gets harder to visualize so many dimensions."
      ]
    },
    {
      "cell_type": "code",
      "metadata": {
        "id": "ngIUKC4gFNCD"
      },
      "source": [
        "#your code here\r\n",
        "\r\n"
      ],
      "execution_count": null,
      "outputs": []
    },
    {
      "cell_type": "code",
      "metadata": {
        "id": "CXxGok48MEpM"
      },
      "source": [
        "#Print and plot a histogram of the average R-squared score of all of the individual trees \r\n",
        "#your code here\r\n",
        "\r\n",
        "#Print and calculate the R-squared score of the aggregated trees\r\n",
        "#your code here\r\n"
      ],
      "execution_count": null,
      "outputs": []
    },
    {
      "cell_type": "markdown",
      "metadata": {
        "id": "-PfhWn21IVWW"
      },
      "source": [
        "Question: What do you observe from the above histogram and the aAverage R-squared score of the individual trees and the R-squared score of the aggregated trees?\r\n",
        "\r\n",
        "*Your answer here*"
      ]
    },
    {
      "cell_type": "code",
      "metadata": {
        "id": "r9IkHAZNJ_ca"
      },
      "source": [
        ""
      ],
      "execution_count": null,
      "outputs": []
    }
  ]
}